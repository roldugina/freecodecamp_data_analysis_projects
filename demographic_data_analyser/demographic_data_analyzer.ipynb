{
  "nbformat": 4,
  "nbformat_minor": 0,
  "metadata": {
    "colab": {
      "provenance": [],
      "authorship_tag": "ABX9TyO9BB+cDfr267Y7SRavIKu9",
      "include_colab_link": true
    },
    "kernelspec": {
      "name": "python3",
      "display_name": "Python 3"
    },
    "language_info": {
      "name": "python"
    }
  },
  "cells": [
    {
      "cell_type": "markdown",
      "metadata": {
        "id": "view-in-github",
        "colab_type": "text"
      },
      "source": [
        "<a href=\"https://colab.research.google.com/github/roldugina/FreeCodeCamp_demographic-data-analyzer/blob/main/demographic_data_analyzer.ipynb\" target=\"_parent\"><img src=\"https://colab.research.google.com/assets/colab-badge.svg\" alt=\"Open In Colab\"/></a>"
      ]
    },
    {
      "cell_type": "code",
      "execution_count": null,
      "metadata": {
        "id": "zICjY1pVLYNg"
      },
      "outputs": [],
      "source": [
        "import pandas as pd\n",
        "\n",
        "\n",
        "def calculate_demographic_data(print_data=True):\n",
        "    # Read data from file\n",
        "    df = pd.read_csv('adult.data.csv')\n",
        "\n",
        "    # How many of each race are represented in this dataset? This should be a Pandas series with race names as the index labels.\n",
        "    race_count = df['race'].value_counts()\n",
        "\n",
        "    # What is the average age of men?\n",
        "    mask=df['sex']=='Male'\n",
        "    df_men=df.loc[mask]\n",
        "    average_age_men =df_men['age'].mean().round(1)\n",
        "\n",
        "    # What is the percentage of people who have a Bachelor's degree?\n",
        "    bachelors=bachelors=df.loc[df['education']=='Bachelors'].shape[0]\n",
        "    percentage_bachelors = round(100*bachelors/df.shape[0],1)\n",
        "\n",
        "    # What percentage of people with advanced education (`Bachelors`, `Masters`, or `Doctorate`) make more than 50K?\n",
        "    # What percentage of people without advanced education make more than 50K?\n",
        "\n",
        "    # with and without `Bachelors`, `Masters`, or `Doctorate`\n",
        "    mask_education=(df['education']=='Bachelors')|(df['education']=='Masters')|(df['education']=='Doctorate')\n",
        "    higher_education = df.loc[mask_education]\n",
        "    lower_education = df.loc[~mask_education]\n",
        "\n",
        "    # percentage with salary >50K\n",
        "\n",
        "    higher_education_rich = round(100*higher_education.loc[higher_education['salary']=='>50K'].shape[0]/higher_education.shape[0],1)\n",
        "    lower_education_rich = round(100*lower_education.loc[lower_education['salary']=='>50K'].shape[0]/lower_education.shape[0],1)\n",
        "\n",
        "    # What is the minimum number of hours a person works per week (hours-per-week feature)?\n",
        "    min_work_hours = df['hours-per-week'].min()\n",
        "\n",
        "    # What percentage of the people who work the minimum number of hours per week have a salary of >50K?\n",
        "    num_min_workers = df.loc[df['hours-per-week']==min_work_hours].shape[0]\n",
        "    num_min_workers_rich=df.loc[(df['hours-per-week']==min_work_hours)&(df['salary']=='>50K')].shape[0]\n",
        "\n",
        "    rich_percentage = round(100*num_min_workers_rich/num_min_workers,1)\n",
        "\n",
        "    # What country has the highest percentage of people that earn >50K?\n",
        "\n",
        "    df_salary=df.groupby('native-country').agg(total=('salary','count'),high_salary=('salary', lambda x: sum(x == '>50K')))\n",
        "    df_salary['pct']=round(df_salary['high_salary']/df_salary['total']*100,1)\n",
        "\n",
        "    highest_earning_country = df_salary['pct'].idxmax()\n",
        "    highest_earning_country_percentage = df_salary['pct'].max()\n",
        "\n",
        "    # Identify the most popular occupation for those who earn >50K in India.\n",
        "\n",
        "    mask=(df['native-country']=='India')&(df['salary']=='>50K')\n",
        "\n",
        "    top_IN_occupation = df.loc[mask]['occupation'].value_counts(ascending=False).index[0]\n",
        "\n",
        "    # DO NOT MODIFY BELOW THIS LINE\n",
        "\n",
        "    if print_data:\n",
        "        print(\"Number of each race:\\n\", race_count)\n",
        "        print(\"Average age of men:\", average_age_men)\n",
        "        print(f\"Percentage with Bachelors degrees: {percentage_bachelors}%\")\n",
        "        print(f\"Percentage with higher education that earn >50K: {higher_education_rich}%\")\n",
        "        print(f\"Percentage without higher education that earn >50K: {lower_education_rich}%\")\n",
        "        print(f\"Min work time: {min_work_hours} hours/week\")\n",
        "        print(f\"Percentage of rich among those who work fewest hours: {rich_percentage}%\")\n",
        "        print(\"Country with highest percentage of rich:\", highest_earning_country)\n",
        "        print(f\"Highest percentage of rich people in country: {highest_earning_country_percentage}%\")\n",
        "        print(\"Top occupations in India:\", top_IN_occupation)\n",
        "\n",
        "    return {\n",
        "        'race_count': race_count,\n",
        "        'average_age_men': average_age_men,\n",
        "        'percentage_bachelors': percentage_bachelors,\n",
        "        'higher_education_rich': higher_education_rich,\n",
        "        'lower_education_rich': lower_education_rich,\n",
        "        'min_work_hours': min_work_hours,\n",
        "        'rich_percentage': rich_percentage,\n",
        "        'highest_earning_country': highest_earning_country,\n",
        "        'highest_earning_country_percentage':\n",
        "        highest_earning_country_percentage,\n",
        "        'top_IN_occupation': top_IN_occupation\n",
        "    }"
      ]
    }
  ]
}